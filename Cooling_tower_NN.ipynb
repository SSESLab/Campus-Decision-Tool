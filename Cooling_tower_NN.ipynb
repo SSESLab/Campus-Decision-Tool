{
  "nbformat": 4,
  "nbformat_minor": 0,
  "metadata": {
    "colab": {
      "name": "Cooling_tower_NN",
      "provenance": [],
      "collapsed_sections": [],
      "toc_visible": true,
      "include_colab_link": true
    },
    "kernelspec": {
      "name": "python3",
      "display_name": "Python 3"
    }
  },
  "cells": [
    {
      "cell_type": "markdown",
      "metadata": {
        "id": "view-in-github",
        "colab_type": "text"
      },
      "source": [
        "<a href=\"https://colab.research.google.com/github/SSESLab/Campus-Decision-Tool/blob/master/Cooling_tower_NN.ipynb\" target=\"_parent\"><img src=\"https://colab.research.google.com/assets/colab-badge.svg\" alt=\"Open In Colab\"/></a>"
      ]
    },
    {
      "cell_type": "code",
      "metadata": {
        "id": "ISWPiAMXtQd1",
        "colab_type": "code",
        "outputId": "d6fdbcbd-2e99-4f38-8fdc-ad7aa41e1bb5",
        "colab": {
          "base_uri": "https://localhost:8080/",
          "height": 35
        }
      },
      "source": [
        "# Use seaborn for pairplot\n",
        "!pip install -q seaborn\n",
        "from __future__ import absolute_import, division, print_function, unicode_literals\n",
        "\n",
        "import pathlib\n",
        "\n",
        "from scipy import stats\n",
        "import numpy as np\n",
        "\n",
        "import matplotlib.pyplot as plt\n",
        "import pandas as pd\n",
        "import seaborn as sns\n",
        "try:\n",
        "  # %tensorflow_version only exists in Colab.\n",
        "  %tensorflow_version 2.x\n",
        "except Exception:\n",
        "  pass\n",
        "import tensorflow as tf\n",
        "\n",
        "from tensorflow import keras\n",
        "from tensorflow.keras import layers\n",
        "\n",
        "\n",
        "print(tf.__version__)\n"
      ],
      "execution_count": 2,
      "outputs": [
        {
          "output_type": "stream",
          "text": [
            "2.2.0-rc3\n"
          ],
          "name": "stdout"
        }
      ]
    },
    {
      "cell_type": "code",
      "metadata": {
        "id": "S-fHSU_SL7W3",
        "colab_type": "code",
        "colab": {}
      },
      "source": [
        "#Get training data\n",
        "url_cooling_tower_data = 'https://raw.githubusercontent.com/SSESLab/Campus-Decision-Tool/master/Training_data_S15E_1285_07KN.csv'\n",
        "CT_data = pd.read_csv(url_cooling_tower_data)"
      ],
      "execution_count": 0,
      "outputs": []
    },
    {
      "cell_type": "code",
      "metadata": {
        "id": "6g68GgnQT-MX",
        "colab_type": "code",
        "colab": {}
      },
      "source": [
        "#Split data into training and testing data\n",
        "train_dataset = CT_data.sample(frac=0.8,random_state=0)\n",
        "test_dataset = CT_data.drop(train_dataset.index)"
      ],
      "execution_count": 0,
      "outputs": []
    },
    {
      "cell_type": "code",
      "metadata": {
        "id": "bEKZvHbSU6iQ",
        "colab_type": "code",
        "outputId": "d319c374-b6e0-4537-e4a7-d4257465cd99",
        "colab": {
          "base_uri": "https://localhost:8080/",
          "height": 272
        }
      },
      "source": [
        "#Split label (data that the model will predict) from the features in the data set\n",
        "\n",
        "train_label_VFD = train_dataset.pop('VFD')\n",
        "test_label_VFD = test_dataset.pop('VFD')\n",
        "\n",
        "print(train_dataset)"
      ],
      "execution_count": 5,
      "outputs": [
        {
          "output_type": "stream",
          "text": [
            "     WB_OA  T_condr  T_conds  V_dot_cond\n",
            "84    16.0       35    25.00       72.00\n",
            "10    21.1       35    27.10       81.00\n",
            "75    22.0       32    25.00       60.00\n",
            "2     16.0       35    28.10       80.63\n",
            "24    20.0       35    26.22       81.00\n",
            "..     ...      ...      ...         ...\n",
            "102   12.0       34    25.00       81.00\n",
            "72    19.0       29    25.00       60.00\n",
            "77    22.0       29    25.00       81.00\n",
            "25    20.0       35    26.61       81.00\n",
            "37    20.0       30    25.00       81.00\n",
            "\n",
            "[87 rows x 4 columns]\n"
          ],
          "name": "stdout"
        }
      ]
    },
    {
      "cell_type": "code",
      "metadata": {
        "id": "fezP3lpAWOvY",
        "colab_type": "code",
        "colab": {}
      },
      "source": [
        "#Build the model\n",
        "def build_model():\n",
        "  model = keras.Sequential([\n",
        "    layers.Dense(32, activation='relu', input_shape=[len(train_dataset.keys())]),\n",
        "    layers.Dense(32, activation='relu'),\n",
        "    layers.Dense(64, activation='relu'),\n",
        "    layers.Dense(64, activation='relu'),\n",
        "    layers.Dense(1)\n",
        "  ])\n",
        "  #User can select the different optimizers by un-commenting the code and running this block of code\n",
        "  #optimizer = tf.keras.optimizers.RMSprop(0.001)\n",
        "  optimizer = tf.keras.optimizers.Adam(0.0005)\n",
        "  model.compile(loss='mse',\n",
        "                optimizer=optimizer,\n",
        "                metrics=['mae', 'mse'])\n",
        "  return model\n"
      ],
      "execution_count": 0,
      "outputs": []
    },
    {
      "cell_type": "code",
      "metadata": {
        "id": "YQjBKaMAZvuG",
        "colab_type": "code",
        "colab": {}
      },
      "source": [
        "model = build_model()"
      ],
      "execution_count": 0,
      "outputs": []
    },
    {
      "cell_type": "code",
      "metadata": {
        "id": "FgLFGmg8ZyXd",
        "colab_type": "code",
        "outputId": "4829206e-642d-47cb-fee2-456930995cb9",
        "colab": {
          "base_uri": "https://localhost:8080/",
          "height": 345
        }
      },
      "source": [
        "model.summary()"
      ],
      "execution_count": 25,
      "outputs": [
        {
          "output_type": "stream",
          "text": [
            "Model: \"sequential_2\"\n",
            "_________________________________________________________________\n",
            "Layer (type)                 Output Shape              Param #   \n",
            "=================================================================\n",
            "dense_12 (Dense)             (None, 32)                160       \n",
            "_________________________________________________________________\n",
            "dense_13 (Dense)             (None, 32)                1056      \n",
            "_________________________________________________________________\n",
            "dense_14 (Dense)             (None, 64)                2112      \n",
            "_________________________________________________________________\n",
            "dense_15 (Dense)             (None, 64)                4160      \n",
            "_________________________________________________________________\n",
            "dense_16 (Dense)             (None, 1)                 65        \n",
            "=================================================================\n",
            "Total params: 7,553\n",
            "Trainable params: 7,553\n",
            "Non-trainable params: 0\n",
            "_________________________________________________________________\n"
          ],
          "name": "stdout"
        }
      ]
    },
    {
      "cell_type": "code",
      "metadata": {
        "id": "QyIn5skuNpH5",
        "colab_type": "code",
        "outputId": "ed54d72d-1895-4e3f-d0c1-74630f526c70",
        "colab": {
          "base_uri": "https://localhost:8080/",
          "height": 644
        }
      },
      "source": [
        "keras.utils.plot_model(model, 'Cooling Tower NN Model.png',show_shapes=True,show_layer_names=True)"
      ],
      "execution_count": 26,
      "outputs": [
        {
          "output_type": "execute_result",
          "data": {
            "image/png": "[encoded data removed]",
            "text/plain": [
              "<IPython.core.display.Image object>"
            ]
          },
          "metadata": {
            "tags": []
          },
          "execution_count": 26
        }
      ]
    },
    {
      "cell_type": "code",
      "metadata": {
        "id": "yluwsnrmaMjF",
        "colab_type": "code",
        "outputId": "c8f9cd05-c879-46ef-c0ea-34f3884a3799",
        "colab": {
          "base_uri": "https://localhost:8080/",
          "height": 217
        }
      },
      "source": [
        "#Train the model\n",
        "# Display training progress by printing a single dot for each completed epoch\n",
        "class PrintDot(keras.callbacks.Callback):\n",
        "  def on_epoch_end(self, epoch, logs):\n",
        "    if epoch % 100 == 0: print('')\n",
        "    print('.', end='')\n",
        "\n",
        "EPOCHS = 1000\n",
        "\n",
        "history = model.fit(\n",
        "  train_dataset, train_label_VFD,\n",
        "  epochs=EPOCHS, validation_split = 0.25, verbose=0,\n",
        "  callbacks=[PrintDot()])"
      ],
      "execution_count": 27,
      "outputs": [
        {
          "output_type": "stream",
          "text": [
            "\n",
            "....................................................................................................\n",
            "....................................................................................................\n",
            "....................................................................................................\n",
            "....................................................................................................\n",
            "....................................................................................................\n",
            "....................................................................................................\n",
            "....................................................................................................\n",
            "....................................................................................................\n",
            "....................................................................................................\n",
            "...................................................................................................."
          ],
          "name": "stdout"
        }
      ]
    },
    {
      "cell_type": "code",
      "metadata": {
        "id": "Rycjc0iOakEk",
        "colab_type": "code",
        "outputId": "56d73aac-e95d-49b3-9fea-1c83d6546b2b",
        "colab": {
          "base_uri": "https://localhost:8080/",
          "height": 198
        }
      },
      "source": [
        "#Review the progress of the model\n",
        "hist = pd.DataFrame(history.history)\n",
        "hist['epoch'] = history.epoch\n",
        "hist.tail()"
      ],
      "execution_count": 28,
      "outputs": [
        {
          "output_type": "execute_result",
          "data": {
            "text/html": [
              "<div>\n",
              "<style scoped>\n",
              "    .dataframe tbody tr th:only-of-type {\n",
              "        vertical-align: middle;\n",
              "    }\n",
              "\n",
              "    .dataframe tbody tr th {\n",
              "        vertical-align: top;\n",
              "    }\n",
              "\n",
              "    .dataframe thead th {\n",
              "        text-align: right;\n",
              "    }\n",
              "</style>\n",
              "<table border=\"1\" class=\"dataframe\">\n",
              "  <thead>\n",
              "    <tr style=\"text-align: right;\">\n",
              "      <th></th>\n",
              "      <th>loss</th>\n",
              "      <th>mae</th>\n",
              "      <th>mse</th>\n",
              "      <th>val_loss</th>\n",
              "      <th>val_mae</th>\n",
              "      <th>val_mse</th>\n",
              "      <th>epoch</th>\n",
              "    </tr>\n",
              "  </thead>\n",
              "  <tbody>\n",
              "    <tr>\n",
              "      <th>995</th>\n",
              "      <td>13.736119</td>\n",
              "      <td>3.362427</td>\n",
              "      <td>20.031607</td>\n",
              "      <td>30.297863</td>\n",
              "      <td>3.841187</td>\n",
              "      <td>30.297863</td>\n",
              "      <td>995</td>\n",
              "    </tr>\n",
              "    <tr>\n",
              "      <th>996</th>\n",
              "      <td>24.360399</td>\n",
              "      <td>3.408954</td>\n",
              "      <td>21.882875</td>\n",
              "      <td>32.783253</td>\n",
              "      <td>4.028235</td>\n",
              "      <td>32.783253</td>\n",
              "      <td>996</td>\n",
              "    </tr>\n",
              "    <tr>\n",
              "      <th>997</th>\n",
              "      <td>13.266759</td>\n",
              "      <td>3.349180</td>\n",
              "      <td>19.196726</td>\n",
              "      <td>51.490444</td>\n",
              "      <td>5.284398</td>\n",
              "      <td>51.490444</td>\n",
              "      <td>997</td>\n",
              "    </tr>\n",
              "    <tr>\n",
              "      <th>998</th>\n",
              "      <td>20.759371</td>\n",
              "      <td>4.273314</td>\n",
              "      <td>30.649551</td>\n",
              "      <td>46.684547</td>\n",
              "      <td>4.896133</td>\n",
              "      <td>46.684547</td>\n",
              "      <td>998</td>\n",
              "    </tr>\n",
              "    <tr>\n",
              "      <th>999</th>\n",
              "      <td>26.381378</td>\n",
              "      <td>3.662060</td>\n",
              "      <td>23.320490</td>\n",
              "      <td>26.701227</td>\n",
              "      <td>3.532017</td>\n",
              "      <td>26.701227</td>\n",
              "      <td>999</td>\n",
              "    </tr>\n",
              "  </tbody>\n",
              "</table>\n",
              "</div>"
            ],
            "text/plain": [
              "          loss       mae        mse   val_loss   val_mae    val_mse  epoch\n",
              "995  13.736119  3.362427  20.031607  30.297863  3.841187  30.297863    995\n",
              "996  24.360399  3.408954  21.882875  32.783253  4.028235  32.783253    996\n",
              "997  13.266759  3.349180  19.196726  51.490444  5.284398  51.490444    997\n",
              "998  20.759371  4.273314  30.649551  46.684547  4.896133  46.684547    998\n",
              "999  26.381378  3.662060  23.320490  26.701227  3.532017  26.701227    999"
            ]
          },
          "metadata": {
            "tags": []
          },
          "execution_count": 28
        }
      ]
    },
    {
      "cell_type": "code",
      "metadata": {
        "id": "bFb4bQLwaq0I",
        "colab_type": "code",
        "outputId": "42999e8e-2364-48ed-8751-73b405ab6ddd",
        "colab": {
          "base_uri": "https://localhost:8080/",
          "height": 283
        }
      },
      "source": [
        "def plot_history(history):\n",
        "  hist = pd.DataFrame(history.history)\n",
        "  hist['epoch'] = history.epoch\n",
        "\n",
        "  plt.figure()\n",
        "  plt.xlabel('Epoch')\n",
        "  plt.ylabel('Mean Abs Error [VFD]')\n",
        "  plt.plot(hist['epoch'], hist['mae'],\n",
        "           label='Train Error')\n",
        "  plt.plot(hist['epoch'], hist['val_mae'],\n",
        "           label = 'Val Error')\n",
        "  plt.ylim([0,50])\n",
        "  plt.legend()\n",
        "\n",
        "  #plt.figure()\n",
        "  #plt.xlabel('Epoch')\n",
        "  #plt.ylabel('Mean Square Error [VFD]')\n",
        "  #plt.plot(hist['epoch'], hist['mse'],\n",
        "   #        label='Train Error')\n",
        "  #plt.plot(hist['epoch'], hist['val_mse'],\n",
        "   #        label = 'Val Error')\n",
        "  #plt.ylim([0,1000])\n",
        "  #plt.legend()\n",
        "  #plt.show()\n",
        "\n",
        "\n",
        "plot_history(history)"
      ],
      "execution_count": 29,
      "outputs": [
        {
          "output_type": "display_data",
          "data": {
            "image/png": "[encoded data removed]",
            "text/plain": [
              "<Figure size 432x288 with 1 Axes>"
            ]
          },
          "metadata": {
            "tags": [],
            "needs_background": "light"
          }
        }
      ]
    },
    {
      "cell_type": "code",
      "metadata": {
        "id": "5PpW_wEBcTHe",
        "colab_type": "code",
        "outputId": "bc96ae95-8fa1-4542-dd84-e82de3b8aa43",
        "colab": {
          "base_uri": "https://localhost:8080/",
          "height": 508
        }
      },
      "source": [
        "test_predictions = model.predict(test_dataset).flatten()\n",
        "print(test_predictions)\n",
        "print(test_label_VFD)"
      ],
      "execution_count": 30,
      "outputs": [
        {
          "output_type": "stream",
          "text": [
            "[70.72409  56.813133 82.16294  66.756744 73.06439  35.79916  58.981804\n",
            " 53.637993 78.622086 64.31949  58.867268 39.352024 47.444225 72.64157\n",
            " 61.72864  78.622086 72.6335   72.52167  66.89232  58.981804 48.267666\n",
            " 47.030434]\n",
            "9      70.00\n",
            "12     55.00\n",
            "21     85.00\n",
            "36     72.40\n",
            "39     74.10\n",
            "44     34.48\n",
            "46     61.04\n",
            "47     56.81\n",
            "58     87.79\n",
            "64     63.87\n",
            "65     59.46\n",
            "67     35.21\n",
            "70     47.60\n",
            "81     70.85\n",
            "83     61.01\n",
            "87     67.16\n",
            "88     59.05\n",
            "95     75.73\n",
            "96     69.80\n",
            "98     61.04\n",
            "103    46.69\n",
            "105    45.39\n",
            "Name: VFD, dtype: float64\n"
          ],
          "name": "stdout"
        }
      ]
    },
    {
      "cell_type": "code",
      "metadata": {
        "id": "FQ9pbvh_cxN4",
        "colab_type": "code",
        "outputId": "e71b8111-c663-4cdb-9d3e-706cea8b0a18",
        "colab": {
          "base_uri": "https://localhost:8080/",
          "height": 295
        }
      },
      "source": [
        "plt.scatter(test_label_VFD, test_predictions)\n",
        "plt.xlabel('True Values [VFD Speed]')\n",
        "plt.ylabel('Predictions [VFD Speed]')\n",
        "plt.axis('equal')\n",
        "plt.axis('square')\n",
        "plt.title('NN Predictions vs Training Data')\n",
        "plt.xlim([30,plt.xlim()[1]])\n",
        "plt.ylim([30,plt.ylim()[1]])\n",
        "_ = plt.plot([-100, 100], [-100, 100])\n",
        "plt.savefig('myimage.png', format='png', dpi=1200)"
      ],
      "execution_count": 31,
      "outputs": [
        {
          "output_type": "display_data",
          "data": {
            "image/png": "[encoded data removed]",
            "text/plain": [
              "<Figure size 432x288 with 1 Axes>"
            ]
          },
          "metadata": {
            "tags": [],
            "needs_background": "light"
          }
        }
      ]
    },
    {
      "cell_type": "code",
      "metadata": {
        "id": "LqdTDvRAfLEU",
        "colab_type": "code",
        "outputId": "5c33e026-c920-44fd-efc8-cc303fe5e6ae",
        "colab": {
          "base_uri": "https://localhost:8080/",
          "height": 35
        }
      },
      "source": [
        "slope, intercept, r_value, p_value, std_err = stats.linregress(test_predictions,test_label_VFD)\n",
        "print(r_value**2)"
      ],
      "execution_count": 32,
      "outputs": [
        {
          "output_type": "stream",
          "text": [
            "0.8780439499503531\n"
          ],
          "name": "stdout"
        }
      ]
    },
    {
      "cell_type": "code",
      "metadata": {
        "id": "ujghXYaOSRbx",
        "colab_type": "code",
        "colab": {}
      },
      "source": [
        "#Save the model\n",
        "model.save('Cooling_Tower_NN.h5') "
      ],
      "execution_count": 0,
      "outputs": []
    },
    {
      "cell_type": "code",
      "metadata": {
        "id": "Raz6Ooxi-xX1",
        "colab_type": "code",
        "outputId": "545014fe-9178-4349-89dd-1a87672e8fa1",
        "colab": {
          "base_uri": "https://localhost:8080/",
          "height": 35
        }
      },
      "source": [
        "plt.savefig('myimage.png', format='png', dpi=1200)"
      ],
      "execution_count": 36,
      "outputs": [
        {
          "output_type": "display_data",
          "data": {
            "text/plain": [
              "<Figure size 432x288 with 0 Axes>"
            ]
          },
          "metadata": {
            "tags": []
          }
        }
      ]
    }
  ]
}